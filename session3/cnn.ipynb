{
  "nbformat": 4,
  "nbformat_minor": 0,
  "metadata": {
    "colab": {
      "provenance": [],
      "toc_visible": true,
      "gpuType": "T4"
    },
    "kernelspec": {
      "name": "python3",
      "display_name": "Python 3"
    },
    "language_info": {
      "name": "python"
    },
    "accelerator": "GPU"
  },
  "cells": [
    {
      "cell_type": "markdown",
      "source": [
        "#Artificial Neural Networks and Deep Learning  \n",
        "\n",
        "\n",
        "\n",
        "##Assignment 3.2 - Convolutional Neural Networks\n",
        "\n",
        "Prof. Dr. Ir. Johan A. K. Suykens     \n",
        "\n",
        "In this file, we will implement a convolutional neural network from scratch.\n",
        "\n",
        "We only consider classification tasks here in the session.\n",
        "\n",
        "\n"
      ],
      "metadata": {
        "id": "XEDrFr3_VWQm"
      }
    },
    {
      "cell_type": "code",
      "execution_count": 1,
      "metadata": {
        "colab": {
          "base_uri": "https://localhost:8080/"
        },
        "id": "k06FYdbfVReE",
        "outputId": "6c242f6b-07c2-4fce-b284-c6227a017872"
      },
      "outputs": [
        {
          "output_type": "stream",
          "name": "stdout",
          "text": [
            "Mounted at /content/drive\n"
          ]
        }
      ],
      "source": [
        "# Please first load your google drive\n",
        "from google.colab import drive\n",
        "drive.mount('/content/drive')"
      ]
    },
    {
      "cell_type": "code",
      "source": [
        "# Please go to Edit > Notebook settings > Hardware accelerator > choose \"T4 GPU\"\n",
        "# Now check if you have loaded the GPU successfully\n",
        "!nvidia-smi"
      ],
      "metadata": {
        "colab": {
          "base_uri": "https://localhost:8080/"
        },
        "id": "tBcSkiFpVmTq",
        "outputId": "63700def-26df-48b4-a06f-b7f5405e1887"
      },
      "execution_count": 37,
      "outputs": [
        {
          "output_type": "stream",
          "name": "stdout",
          "text": [
            "Mon Mar 11 13:30:55 2024       \n",
            "+---------------------------------------------------------------------------------------+\n",
            "| NVIDIA-SMI 535.104.05             Driver Version: 535.104.05   CUDA Version: 12.2     |\n",
            "|-----------------------------------------+----------------------+----------------------+\n",
            "| GPU  Name                 Persistence-M | Bus-Id        Disp.A | Volatile Uncorr. ECC |\n",
            "| Fan  Temp   Perf          Pwr:Usage/Cap |         Memory-Usage | GPU-Util  Compute M. |\n",
            "|                                         |                      |               MIG M. |\n",
            "|=========================================+======================+======================|\n",
            "|   0  Tesla T4                       Off | 00000000:00:04.0 Off |                    0 |\n",
            "| N/A   57C    P0              27W /  70W |    997MiB / 15360MiB |      0%      Default |\n",
            "|                                         |                      |                  N/A |\n",
            "+-----------------------------------------+----------------------+----------------------+\n",
            "                                                                                         \n",
            "+---------------------------------------------------------------------------------------+\n",
            "| Processes:                                                                            |\n",
            "|  GPU   GI   CI        PID   Type   Process name                            GPU Memory |\n",
            "|        ID   ID                                                             Usage      |\n",
            "|=======================================================================================|\n",
            "+---------------------------------------------------------------------------------------+\n"
          ]
        }
      ]
    },
    {
      "cell_type": "markdown",
      "source": [
        "# Convolutional Neural Networks\n",
        "In this section, we implement CNN from scrath and train it on the MNIST dataset.\n",
        "\n",
        "We first load the dataset as follows:"
      ],
      "metadata": {
        "id": "C2KVP3ThVt4T"
      }
    },
    {
      "cell_type": "code",
      "source": [
        "import torch\n",
        "from torch import nn, optim, functional, utils\n",
        "from torch.utils.data.dataloader import DataLoader\n",
        "import torchvision\n",
        "from torchvision import datasets, utils\n",
        "from torchvision.datasets import MNIST\n",
        "\n",
        "import time, os\n",
        "\n",
        "import matplotlib.pyplot as plt\n",
        "# use seaborn\n",
        "import seaborn as sns\n",
        "\n",
        "# Apply the default theme\n",
        "sns.set_theme()\n",
        "plt.rcParams[\"figure.dpi\"] = 100\n",
        "plt.rcParams['savefig.dpi'] = 300\n",
        "\n",
        "\n",
        "def get_mnist_loader(batch_size=100, num_train_samples = 10000, num_test_samples = 2000):\n",
        "    \"\"\"\n",
        "\n",
        "    :return: train_loader, test_loader\n",
        "    \"\"\"\n",
        "    train_dataset = MNIST(root='../data',\n",
        "                          train=True,\n",
        "                          transform=torchvision.transforms.ToTensor(),\n",
        "                          download=True)\n",
        "    test_dataset = MNIST(root='../data',\n",
        "                         train=False,\n",
        "                         transform=torchvision.transforms.ToTensor(),\n",
        "                         download=True)\n",
        "\n",
        "    # Randomly select a subset of samples\n",
        "    train_indices = torch.randperm(len(train_dataset))[:num_train_samples]\n",
        "    test_indices = torch.randperm(len(test_dataset))[:num_test_samples]\n",
        "\n",
        "    # Create subset samplers to be used in the dataloader\n",
        "    train_subset_sampler = torch.utils.data.SubsetRandomSampler(train_indices)\n",
        "    test_subset_sampler = torch.utils.data.SubsetRandomSampler(test_indices)\n",
        "\n",
        "    train_loader = torch.utils.data.DataLoader(dataset=train_dataset,\n",
        "                                               batch_size=batch_size,\n",
        "                                               sampler = train_subset_sampler)\n",
        "    test_loader = torch.utils.data.DataLoader(dataset=test_dataset,\n",
        "                                              batch_size=batch_size,\n",
        "                                              sampler = test_subset_sampler)\n",
        "\n",
        "\n",
        "    return train_loader, test_loader"
      ],
      "metadata": {
        "id": "-X7wZ07qVny5"
      },
      "execution_count": 7,
      "outputs": []
    },
    {
      "cell_type": "markdown",
      "source": [
        "## Build CNN from scratch\n",
        "Our CNN is of 4 convolutional layers and 2 fully connected layers.\n",
        "You can try a different amount of layers by simply add more ``self.conv`` layers inside  ``__init__`` and ``forward`` in the following code. Please be careful with the dimensions of the convolutional layers when changing parameters such as convolution channels, kernel_size and stride."
      ],
      "metadata": {
        "id": "l8DOJpeycH1L"
      }
    },
    {
      "cell_type": "code",
      "source": [
        "class CNNnet(torch.nn.Module):\n",
        "    def __init__(self):\n",
        "        super(CNNnet,self).__init__()\n",
        "        self.conv1 = torch.nn.Sequential(\n",
        "            # 2-D convolution\n",
        "            torch.nn.Conv2d(in_channels=1, # input channels\n",
        "                            out_channels=16, # convolution channels\n",
        "                            kernel_size=3, # kernel size of the convolution\n",
        "                            stride=2, # stride of the kernel\n",
        "                            padding=1), # padding with 0\n",
        "            # Data is normalized before entering ReLU，num_features=batch_size*num_features*height*width\n",
        "            # Output is with size (N,C,W,H), i.e., (batch_size, channels, width, height)\n",
        "            torch.nn.BatchNorm2d(16), # the input dimensionality of BatchNorm2d should match the number of convolution channels\n",
        "            # Set activation function\n",
        "            torch.nn.ReLU()\n",
        "        )\n",
        "        self.conv2 = torch.nn.Sequential(\n",
        "            torch.nn.Conv2d(16,32,3,2,1), # be sure to have the number of input channels match the output channels of the previous layer\n",
        "            torch.nn.BatchNorm2d(32),\n",
        "            torch.nn.ReLU()\n",
        "        )\n",
        "        self.conv3 = torch.nn.Sequential(\n",
        "            torch.nn.Conv2d(32,32,3,2,1),\n",
        "            torch.nn.BatchNorm2d(32),\n",
        "            torch.nn.ReLU()\n",
        "        )\n",
        "        self.conv4 = torch.nn.Sequential(\n",
        "            torch.nn.Conv2d(32,64,2,2,0),\n",
        "            torch.nn.BatchNorm2d(64),\n",
        "            torch.nn.ReLU()\n",
        "        )\n",
        "        # set fully connected layer\n",
        "        self.mlp1 = torch.nn.Linear(2*2*64,100) # input dimension should match the output dimension from the previous layer\n",
        "        # final output is of dimension 10 since\n",
        "        # MNIST is a 10-class classification dataset\n",
        "        self.mlp2 = torch.nn.Linear(100,10)\n",
        "\n",
        "    # feedforward\n",
        "    def forward(self,x):\n",
        "        x = self.conv1(x)\n",
        "        x = self.conv2(x)\n",
        "        x = self.conv3(x)\n",
        "        x = self.conv4(x)\n",
        "        # flatten tensor to 1-D\n",
        "        x = self.mlp1(x.view(x.size(0),-1))\n",
        "        x = self.mlp2(x)\n",
        "        return x"
      ],
      "metadata": {
        "id": "vwTxoe2VV7jX"
      },
      "execution_count": 8,
      "outputs": []
    },
    {
      "cell_type": "markdown",
      "source": [
        "## Training function\n",
        "The training process includes loading the model, setting the optimizer, and running on the training set for epochs.\n",
        "After each training epoch, we evaluate the model on the test set to record the test accuracy."
      ],
      "metadata": {
        "id": "bsGqOf9mk6yR"
      }
    },
    {
      "cell_type": "code",
      "source": [
        "def train(model, train_epoch, model_save, train_loader, test_loader) :\n",
        "    # Push model on to GPU if available\n",
        "    device = torch.device('cuda' if torch.cuda.is_available() else 'cpu')\n",
        "    model.to(device)\n",
        "\n",
        "    loss_func = nn.CrossEntropyLoss( )\n",
        "    # Use Adam optimizer\n",
        "    optimizer = torch.optim.Adam(model.parameters( ),lr=0.001)\n",
        "\n",
        "    acc_count = []  # record the test accuracy\n",
        "    for epoch in range(train_epoch):\n",
        "\n",
        "        model.train()\n",
        "\n",
        "        for i, (x, y) in enumerate(train_loader):\n",
        "            x = x.to(device)  # torch,Size([128,1,28,28])\n",
        "            y = y.to(device)   # torch.Size([128])\n",
        "            # Output of the model\n",
        "            out = model(x)  # torch.Size([128,10])\n",
        "            # Compute loss\n",
        "            loss = loss_func(out, y)\n",
        "\n",
        "            optimizer.zero_grad()\n",
        "            loss.backward()  # backpropagation\n",
        "            optimizer.step()  # update the network parameters\n",
        "\n",
        "            # save the model checkpoint every 20 iterations\n",
        "            if i % 20 == 0:\n",
        "                print('Training Loss:{:.6f} Batch {}/{} '.format(loss.item(), i, len(train_loader)))\n",
        "                torch.save(model, model_save)\n",
        "\n",
        "        # evaluate the model after each training epoch\n",
        "        with torch.no_grad():\n",
        "            model.eval()\n",
        "\n",
        "            true_pred = torch.zeros(1).to(device)\n",
        "            nb_sample = 0\n",
        "\n",
        "            for inputs, targets in test_loader:\n",
        "                inputs = inputs.to(device)\n",
        "                targets = targets.to(device)\n",
        "                outputs = model(inputs)\n",
        "\n",
        "                _, pred = torch.max(outputs, dim=1)\n",
        "\n",
        "                true_pred = true_pred + torch.sum(pred == targets).type(torch.FloatTensor)\n",
        "                nb_sample += len(inputs)\n",
        "\n",
        "            acc = true_pred / nb_sample\n",
        "            acc = acc.item()\n",
        "\n",
        "            acc_count.append(acc)\n",
        "\n",
        "            print('Epoch {:d}, Test Accuracy {:.3f} %'.format(epoch, acc * 100))\n",
        "\n",
        "    return acc_count"
      ],
      "metadata": {
        "id": "tHe1PyUucZGp"
      },
      "execution_count": 4,
      "outputs": []
    },
    {
      "cell_type": "markdown",
      "source": [
        "## Let's start training!\n",
        "The network is trained for 20 epochs, batch size of 100.\n",
        "\n",
        "You can adjust the hyperparameters here if necessary."
      ],
      "metadata": {
        "id": "fqXo_JIWla_l"
      }
    },
    {
      "cell_type": "code",
      "source": [
        "# You can adjust the hyperparameters here if needed\n",
        "train_epoch = 20\n",
        "batch_size = 100\n",
        "shuffle = True\n",
        "\n",
        "# Define model\n",
        "model = CNNnet()\n",
        "\n",
        "# where to save the model\n",
        "model_save = './MNIST_CNN/ckpt.pth'\n",
        "\n",
        "import os\n",
        "if not os.path.exists('MNIST_CNN'):\n",
        "    os.mkdir('MNIST_CNN')"
      ],
      "metadata": {
        "id": "cMjq_kz8guO_"
      },
      "execution_count": 9,
      "outputs": []
    },
    {
      "cell_type": "code",
      "source": [
        "# load datasets\n",
        "train_loader, test_loader = get_mnist_loader(batch_size=batch_size)\n",
        "\n",
        "# train the model\n",
        "acc_count = train(model, train_epoch=train_epoch, model_save=model_save, train_loader=train_loader, test_loader=test_loader)"
      ],
      "metadata": {
        "colab": {
          "base_uri": "https://localhost:8080/"
        },
        "id": "yhijmumReHXc",
        "outputId": "fd480ccf-4b4e-4883-d293-dba7f0e977c2"
      },
      "execution_count": 10,
      "outputs": [
        {
          "output_type": "stream",
          "name": "stdout",
          "text": [
            "Training Loss:2.315226 Batch 0/100 \n",
            "Training Loss:0.948422 Batch 20/100 \n",
            "Training Loss:0.485134 Batch 40/100 \n",
            "Training Loss:0.340697 Batch 60/100 \n",
            "Training Loss:0.217932 Batch 80/100 \n",
            "Epoch 0, Test Accuracy 93.450 %\n",
            "Training Loss:0.236262 Batch 0/100 \n",
            "Training Loss:0.125866 Batch 20/100 \n",
            "Training Loss:0.109215 Batch 40/100 \n",
            "Training Loss:0.109992 Batch 60/100 \n",
            "Training Loss:0.199216 Batch 80/100 \n",
            "Epoch 1, Test Accuracy 95.550 %\n",
            "Training Loss:0.052785 Batch 0/100 \n",
            "Training Loss:0.113521 Batch 20/100 \n",
            "Training Loss:0.089693 Batch 40/100 \n",
            "Training Loss:0.109155 Batch 60/100 \n",
            "Training Loss:0.083481 Batch 80/100 \n",
            "Epoch 2, Test Accuracy 96.300 %\n",
            "Training Loss:0.019677 Batch 0/100 \n",
            "Training Loss:0.036255 Batch 20/100 \n",
            "Training Loss:0.050288 Batch 40/100 \n",
            "Training Loss:0.026613 Batch 60/100 \n",
            "Training Loss:0.035146 Batch 80/100 \n",
            "Epoch 3, Test Accuracy 96.700 %\n",
            "Training Loss:0.047638 Batch 0/100 \n",
            "Training Loss:0.013351 Batch 20/100 \n",
            "Training Loss:0.022498 Batch 40/100 \n",
            "Training Loss:0.028652 Batch 60/100 \n",
            "Training Loss:0.031972 Batch 80/100 \n",
            "Epoch 4, Test Accuracy 96.500 %\n",
            "Training Loss:0.008626 Batch 0/100 \n",
            "Training Loss:0.009682 Batch 20/100 \n",
            "Training Loss:0.037067 Batch 40/100 \n",
            "Training Loss:0.004912 Batch 60/100 \n",
            "Training Loss:0.013405 Batch 80/100 \n",
            "Epoch 5, Test Accuracy 97.100 %\n",
            "Training Loss:0.009064 Batch 0/100 \n",
            "Training Loss:0.003692 Batch 20/100 \n",
            "Training Loss:0.006174 Batch 40/100 \n",
            "Training Loss:0.014189 Batch 60/100 \n",
            "Training Loss:0.004902 Batch 80/100 \n",
            "Epoch 6, Test Accuracy 96.450 %\n",
            "Training Loss:0.006798 Batch 0/100 \n",
            "Training Loss:0.003015 Batch 20/100 \n",
            "Training Loss:0.001008 Batch 40/100 \n",
            "Training Loss:0.009564 Batch 60/100 \n",
            "Training Loss:0.004666 Batch 80/100 \n",
            "Epoch 7, Test Accuracy 96.650 %\n",
            "Training Loss:0.015765 Batch 0/100 \n",
            "Training Loss:0.005632 Batch 20/100 \n",
            "Training Loss:0.019212 Batch 40/100 \n",
            "Training Loss:0.006622 Batch 60/100 \n",
            "Training Loss:0.004342 Batch 80/100 \n",
            "Epoch 8, Test Accuracy 97.150 %\n",
            "Training Loss:0.004072 Batch 0/100 \n",
            "Training Loss:0.002786 Batch 20/100 \n",
            "Training Loss:0.000499 Batch 40/100 \n",
            "Training Loss:0.001060 Batch 60/100 \n",
            "Training Loss:0.003468 Batch 80/100 \n",
            "Epoch 9, Test Accuracy 96.750 %\n",
            "Training Loss:0.000831 Batch 0/100 \n",
            "Training Loss:0.006049 Batch 20/100 \n",
            "Training Loss:0.002738 Batch 40/100 \n",
            "Training Loss:0.024115 Batch 60/100 \n",
            "Training Loss:0.001404 Batch 80/100 \n",
            "Epoch 10, Test Accuracy 95.450 %\n",
            "Training Loss:0.013549 Batch 0/100 \n",
            "Training Loss:0.061739 Batch 20/100 \n",
            "Training Loss:0.034623 Batch 40/100 \n",
            "Training Loss:0.002259 Batch 60/100 \n",
            "Training Loss:0.119904 Batch 80/100 \n",
            "Epoch 11, Test Accuracy 95.550 %\n",
            "Training Loss:0.020142 Batch 0/100 \n",
            "Training Loss:0.008972 Batch 20/100 \n",
            "Training Loss:0.022821 Batch 40/100 \n",
            "Training Loss:0.023043 Batch 60/100 \n",
            "Training Loss:0.044881 Batch 80/100 \n",
            "Epoch 12, Test Accuracy 96.500 %\n",
            "Training Loss:0.014307 Batch 0/100 \n",
            "Training Loss:0.006384 Batch 20/100 \n",
            "Training Loss:0.002260 Batch 40/100 \n",
            "Training Loss:0.002689 Batch 60/100 \n",
            "Training Loss:0.004073 Batch 80/100 \n",
            "Epoch 13, Test Accuracy 96.500 %\n",
            "Training Loss:0.002962 Batch 0/100 \n",
            "Training Loss:0.001483 Batch 20/100 \n",
            "Training Loss:0.001554 Batch 40/100 \n",
            "Training Loss:0.001062 Batch 60/100 \n",
            "Training Loss:0.003504 Batch 80/100 \n",
            "Epoch 14, Test Accuracy 97.050 %\n",
            "Training Loss:0.008659 Batch 0/100 \n",
            "Training Loss:0.001744 Batch 20/100 \n",
            "Training Loss:0.003911 Batch 40/100 \n",
            "Training Loss:0.023021 Batch 60/100 \n",
            "Training Loss:0.000954 Batch 80/100 \n",
            "Epoch 15, Test Accuracy 96.900 %\n",
            "Training Loss:0.000453 Batch 0/100 \n",
            "Training Loss:0.004970 Batch 20/100 \n",
            "Training Loss:0.002008 Batch 40/100 \n",
            "Training Loss:0.004410 Batch 60/100 \n",
            "Training Loss:0.006021 Batch 80/100 \n",
            "Epoch 16, Test Accuracy 97.250 %\n",
            "Training Loss:0.001024 Batch 0/100 \n",
            "Training Loss:0.001696 Batch 20/100 \n",
            "Training Loss:0.003079 Batch 40/100 \n",
            "Training Loss:0.000537 Batch 60/100 \n",
            "Training Loss:0.000863 Batch 80/100 \n",
            "Epoch 17, Test Accuracy 96.950 %\n",
            "Training Loss:0.002373 Batch 0/100 \n",
            "Training Loss:0.003172 Batch 20/100 \n",
            "Training Loss:0.007655 Batch 40/100 \n",
            "Training Loss:0.003997 Batch 60/100 \n",
            "Training Loss:0.000804 Batch 80/100 \n",
            "Epoch 18, Test Accuracy 96.700 %\n",
            "Training Loss:0.000229 Batch 0/100 \n",
            "Training Loss:0.002246 Batch 20/100 \n",
            "Training Loss:0.000803 Batch 40/100 \n",
            "Training Loss:0.000440 Batch 60/100 \n",
            "Training Loss:0.005753 Batch 80/100 \n",
            "Epoch 19, Test Accuracy 96.800 %\n"
          ]
        }
      ]
    },
    {
      "cell_type": "code",
      "source": [
        "# Plot the accuracy curves w.r.t. epochs\n",
        "plt.plot(acc_count, marker='.')\n",
        "plt.ylabel('Accuracy')\n",
        "plt.xlabel('Epochs')\n",
        "plt.title('Test Accuracy of CNN')\n",
        "plt.show()"
      ],
      "metadata": {
        "colab": {
          "base_uri": "https://localhost:8080/",
          "height": 480
        },
        "id": "V4gtbMW6jBRC",
        "outputId": "50765e55-cb01-4d16-924c-c7c26232ef71"
      },
      "execution_count": 11,
      "outputs": [
        {
          "output_type": "display_data",
          "data": {
            "text/plain": [
              "<Figure size 640x480 with 1 Axes>"
            ],
            "image/png": "[encoded data removed]"
          },
          "metadata": {}
        }
      ]
    }
  ]
}