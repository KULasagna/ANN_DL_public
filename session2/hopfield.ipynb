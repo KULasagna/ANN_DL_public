{
 "cells": [
  {
   "cell_type": "markdown",
   "metadata": {
    "id": "wEqXEByCGYbm"
   },
   "source": [
    "# Hopfield Network\n",
    "A Hopfield network has one layer of $N$ neurons and is a fully interconnected recurrent neural network: each neuron is connected to every other neuron. After initialization of all neurons (the initial input), the network is let to evolve: an output at time $t$ becomes an input at time $t+1$. Thus to generate a series of outputs, we have to provide only one initial input. In the course of this dynamical evolution the network should reach a stable state (an attractor), which is a configuration of neuron values that is not changed by subsequent updates of the network. Networks of this kind are used as models of associative memory. After initialization the network should evolve to the closest attractor."
   ]
  },
  {
   "cell_type": "markdown",
   "metadata": {
    "id": "wbdqHkKQG12W"
   },
   "source": [
    "## Colab Setup\n",
    "This part is only required when running this notebook \"in the cloud\" on [Google Colab](https://colab.research.google.com). When running it locally, skip this part and go to the next section."
   ]
  },
  {
   "cell_type": "markdown",
   "metadata": {
    "id": "jxvp4Tg-tshY"
   },
   "source": [
    "### [OPTIONAL] Interactive Plots\n",
    "Run the below cell if you want to enable interactive plots in Google Colab. For most exercises this is not required and it can be quite slow."
   ]
  },
  {
   "cell_type": "code",
   "execution_count": null,
   "metadata": {
    "colab": {
     "base_uri": "https://localhost:8080/"
    },
    "id": "-ak0n5rCTAl-",
    "outputId": "1da4fa1c-1304-433b-89f8-e97e78fb97a1"
   },
   "outputs": [],
   "source": [
    "!pip install ipympl\n",
    "%matplotlib widget\n",
    "from google.colab import output\n",
    "output.enable_custom_widget_manager()"
   ]
  },
  {
   "cell_type": "markdown",
   "metadata": {
    "id": "chyeyr-8uJbo"
   },
   "source": [
    "### [REQUIRED] Auxiliary Files"
   ]
  },
  {
   "cell_type": "code",
   "execution_count": null,
   "metadata": {
    "colab": {
     "base_uri": "https://localhost:8080/"
    },
    "id": "0qiAOp4Vf3l4",
    "outputId": "81ca521e-eb10-4d65-a0c3-68a320ef7cb2"
   },
   "outputs": [],
   "source": [
    "# Retrieve some auxiliary files from github\n",
    "!wget https://raw.githubusercontent.com/KULasagna/ANN_DL_public/master/session2/hopfield.py"
   ]
  },
  {
   "cell_type": "markdown",
   "metadata": {
    "id": "qSeDqAfvj7wW"
   },
   "source": [
    "## Setup\n",
    "Import all the necessary modules used throughout this notebook and define some methods to visualize the state space of 2D and 3D Hopfield networks, the energy evolution and the handwritten digits."
   ]
  },
  {
   "cell_type": "code",
   "execution_count": null,
   "metadata": {
    "id": "NFT69dIwgVEl"
   },
   "outputs": [],
   "source": [
    "# Import the required modules for this notebook\n",
    "import numpy as np\n",
    "import matplotlib.pyplot as plt\n",
    "from matplotlib.collections import LineCollection\n",
    "from mpl_toolkits.mplot3d.art3d import Line3DCollection\n",
    "from keras.datasets import mnist\n",
    "from hopfield import HopfieldNetwork\n",
    "\n",
    "rng = np.random.default_rng()"
   ]
  },
  {
   "cell_type": "code",
   "execution_count": null,
   "metadata": {
    "id": "K5vYVMpdkD9G"
   },
   "outputs": [],
   "source": [
    "# 2D and 3D Hopfield networks:\n",
    "def plot_targets(targets):\n",
    "  N = targets.shape[1]\n",
    "  fig, ax = plt.subplots(subplot_kw={'projection': '3d' if N == 3 else None})\n",
    "  ax.scatter(*np.swapaxes(targets, 0, 1), color='y', marker='D', label='Targets')\n",
    "  ax.set_xlim([-1.05, 1.05])\n",
    "  ax.set_ylim([-1.05, 1.05])\n",
    "  ax.set_zlim([-1.05, 1.05]) if N == 3 else None\n",
    "  ax.set_title(f'Targets of a {N}D Hopfield network')\n",
    "  plt.tight_layout()\n",
    "  plt.show()\n",
    "\n",
    "def plot_states(states, filename=None):\n",
    "  if states.ndim == 2:\n",
    "    states = np.expand_dims(states, 0)\n",
    "  N = states.shape[1]\n",
    "  fig, ax = plt.subplots(subplot_kw={'projection': '3d' if N == 3 else None})\n",
    "  createLineCollection = Line3DCollection if N == 3 else LineCollection\n",
    "  evolution = createLineCollection(np.swapaxes(states, 1, 2), color='b', zorder=0, label='State Evolution')\n",
    "  ax.add_collection(evolution)\n",
    "  s_init = states[:, :, 0]\n",
    "  s_final = states[:, :, -1]\n",
    "  ax.scatter(*np.swapaxes(s_init, 0, 1), color='g', marker='*', label='Initial State')\n",
    "  ax.scatter(*np.swapaxes(s_final, 0, 1), color='r', marker='x', label='Final State')\n",
    "\n",
    "  ax.set_xlim([-1.05, 1.05])\n",
    "  ax.set_ylim([-1.05, 1.05])\n",
    "  ax.set_zlim([-1.05, 1.05]) if N == 3 else None\n",
    "  ax.set_title(f'Time evolution in the state space of a {N}D Hopfield network')\n",
    "  ax.legend(loc='upper center', bbox_to_anchor=(0.5, -0.06), ncols=4)\n",
    "\n",
    "  plt.tight_layout()\n",
    "  if filename is not None:\n",
    "    plt.savefig(f\"{filename}.svg\")\n",
    "  plt.show()\n",
    "\n",
    "def plot_energies(energies, filename=None):\n",
    "  if energies.ndim == 1:\n",
    "    energies = np.expand_dims(energies, 0)\n",
    "  fig, ax = plt.subplots()\n",
    "  ax.plot(energies.T)\n",
    "\n",
    "  ax.set_title('Energy evolution of the states')\n",
    "\n",
    "  plt.tight_layout()\n",
    "  if filename is not None:\n",
    "    plt.savefig(f\"{filename}.svg\")\n",
    "  plt.show()\n",
    "\n",
    "# Digit reconstruction:\n",
    "def plot_digits(digits, titles=None, filename=None):\n",
    "  digits = np.asarray(digits)\n",
    "  C, R = [1, 1, *digits.shape[:-1]][-2:]\n",
    "  if titles is None:\n",
    "    titles = [None]*C\n",
    "  digits = digits.reshape((C, R, 28, 28))\n",
    "  fig, axes = plt.subplots(R, C, squeeze=False, gridspec_kw={'wspace':1, 'hspace':0.05})\n",
    "  for c, title in enumerate(titles):\n",
    "    if title is not None:\n",
    "      axes[0, c].set_title(title)\n",
    "    for r in range(R):\n",
    "      axes[r, c].imshow(digits[c, r], cmap='binary', vmin=-1, vmax=1)\n",
    "      axes[r, c].axis('off')\n",
    "  if filename is not None:\n",
    "    plt.savefig(f'{filename}.svg')\n",
    "  plt.show()"
   ]
  },
  {
   "cell_type": "markdown",
   "metadata": {
    "id": "NqFqrm2Yilkb"
   },
   "source": [
    "## 2D Hopfield Network"
   ]
  },
  {
   "cell_type": "markdown",
   "metadata": {
    "id": "B75WO0eAJFxU"
   },
   "source": [
    "Create a 2D Hopfield network with target patterns $[1, 1]$, $[-1, -1]$ and $[1, -1]$."
   ]
  },
  {
   "cell_type": "code",
   "execution_count": null,
   "metadata": {
    "colab": {
     "base_uri": "https://localhost:8080/",
     "height": 487
    },
    "id": "0XiM8kgAiTA2",
    "outputId": "98ae5b68-374a-4f8a-dd78-e8403dab5e89"
   },
   "outputs": [],
   "source": [
    "targets = np.array([[1, 1], [-1, -1], [1, -1]])\n",
    "net = HopfieldNetwork(targets)\n",
    "plot_targets(targets)"
   ]
  },
  {
   "cell_type": "markdown",
   "metadata": {
    "id": "Eca0Yy2nJRsW"
   },
   "source": [
    "### **Exercise 1**\n",
    "Simulate the state evolution for various input vectors (e.g. random points or points of high symmetry) and note down the obtained attractors after a sufficient number of iterations."
   ]
  },
  {
   "cell_type": "code",
   "execution_count": null,
   "metadata": {
    "colab": {
     "base_uri": "https://localhost:8080/",
     "height": 957
    },
    "id": "qgRR15bWjhFU",
    "outputId": "5994ea65-ea34-4cc8-f3d5-ac895c28d1cb"
   },
   "outputs": [],
   "source": [
    "# Random inputs:\n",
    "inputs = 2*rng.uniform(size=(10, 2))-1  # rng.uniform returns random numbers between 0 and 1, so rescale it to the interval [-1,1]\n",
    "# Particular inputs of interest:\n",
    "# inputs = np.array([[0.5, 0.25], [-0.5, -0.1]])  # TODO: Replace these inputs with some points of high symmetry\n",
    "states, energies = net.simulate(inputs, num_iter=50)\n",
    "plot_states(states, \"hopfield2D\")  # Second parameter is the filename of the generated image\n",
    "plot_energies(energies, \"energy\")"
   ]
  },
  {
   "cell_type": "markdown",
   "metadata": {
    "id": "IBhCcEWdMozm"
   },
   "source": [
    "#### **Exercise 1.a:**\n",
    "Are the real attractors the same as those used to create the network? If not, why do we get these unwanted attractors?"
   ]
  },
  {
   "cell_type": "code",
   "execution_count": null,
   "metadata": {
    "id": "PxMFmzUxYYp4"
   },
   "outputs": [],
   "source": [
    "# TODO: compare obtained attractors with targets\n",
    "# Note that the final states (after num_iter steps) can be obtained as:\n",
    "final_states = states[:, :, -1]"
   ]
  },
  {
   "cell_type": "markdown",
   "metadata": {
    "id": "wBMkJmIEUfkO"
   },
   "source": [
    "#### **Exercise 1.b:**\n",
    "How many iterations does it typically take to reach the attractor?"
   ]
  },
  {
   "cell_type": "code",
   "execution_count": null,
   "metadata": {
    "id": "z6ys-63zYwz-"
   },
   "outputs": [],
   "source": [
    "# TODO: determine number of iterations to reach the attractors"
   ]
  },
  {
   "cell_type": "markdown",
   "metadata": {
    "id": "5RCAAiYNU3B3"
   },
   "source": [
    "#### **Exercise 1.c:**\n",
    "What can you say about the stability of the attractors?"
   ]
  },
  {
   "cell_type": "code",
   "execution_count": null,
   "metadata": {
    "id": "mPR4n0OSU99F"
   },
   "outputs": [],
   "source": [
    "# TODO: examine stability of attractors"
   ]
  },
  {
   "cell_type": "markdown",
   "metadata": {
    "id": "XIB-Ha-gJd1H"
   },
   "source": [
    "## 3D Hopfield Network"
   ]
  },
  {
   "cell_type": "markdown",
   "metadata": {
    "id": "54gTgMFaCsMH"
   },
   "source": [
    "Create a 3D Hopfield network with target patterns $[1, 1, 1]$, $[-1, -1, 1]$ and $[1, -1, -1]$."
   ]
  },
  {
   "cell_type": "code",
   "execution_count": null,
   "metadata": {
    "colab": {
     "base_uri": "https://localhost:8080/",
     "height": 493
    },
    "id": "_bDUSsyYDbRE",
    "outputId": "7a17a27d-1f35-4a12-e18d-8758aade5fda"
   },
   "outputs": [],
   "source": [
    "targets = np.array([[1, 1, 1], [-1, -1, 1], [1, -1, -1]])\n",
    "net = HopfieldNetwork(targets)\n",
    "plot_targets(targets)"
   ]
  },
  {
   "cell_type": "markdown",
   "metadata": {
    "id": "ePwRkcdJDbRE"
   },
   "source": [
    "### **Exercise 2**\n",
    "Simulate the state evolution for various input vectors (e.g. random points or points of high symmetry) and note down the obtained attractors after a sufficient number of iterations."
   ]
  },
  {
   "cell_type": "code",
   "execution_count": null,
   "metadata": {
    "colab": {
     "base_uri": "https://localhost:8080/",
     "height": 957
    },
    "id": "CZnUAspZDbRE",
    "outputId": "e6271838-b2cf-4d77-edfc-8afc4e346495"
   },
   "outputs": [],
   "source": [
    "# Random inputs:\n",
    "inputs = 2*rng.uniform(size=(10, 3))-1  # rng.uniform returns random numbers between 0 and 1, so rescale it to the interval [-1,1]\n",
    "# Particular inputs of interest:\n",
    "# inputs = np.array([[0.5, 0.25, -0.5], [-0.5, -0.1, 0.5]])  # TODO: Replace these inputs with some points of high symmetry\n",
    "states, energies = net.simulate(inputs, num_iter=50)\n",
    "plot_states(states, \"hopfield3D\")  # Second parameter is the filename of the generated image\n",
    "plot_energies(energies, \"energy3D\")"
   ]
  },
  {
   "cell_type": "markdown",
   "metadata": {
    "id": "LX6KvAv7DbRF"
   },
   "source": [
    "#### **Exercise 2.a:**\n",
    "Are the real attractors the same as those used to create the network? If not, why do we get these unwanted attractors?"
   ]
  },
  {
   "cell_type": "code",
   "execution_count": null,
   "metadata": {
    "id": "CAh_DA6fDbRF"
   },
   "outputs": [],
   "source": [
    "# TODO: compare obtained attractors with targets\n",
    "# Note that the final states (after num_iter steps) can be obtained as:\n",
    "final_states = states[:, :, -1]"
   ]
  },
  {
   "cell_type": "markdown",
   "metadata": {
    "id": "MXs0X_53DbRG"
   },
   "source": [
    "#### **Exercise 2.b:**\n",
    "How many iterations does it typically take to reach the attractor?"
   ]
  },
  {
   "cell_type": "code",
   "execution_count": null,
   "metadata": {
    "id": "74yYzh96DbRG"
   },
   "outputs": [],
   "source": [
    "# TODO: determine number of iterations to reach the attractors"
   ]
  },
  {
   "cell_type": "markdown",
   "metadata": {
    "id": "v3Q2a4uwDbRH"
   },
   "source": [
    "#### **Exercise 2.c:**\n",
    "What can you say about the stability of the attractors?"
   ]
  },
  {
   "cell_type": "code",
   "execution_count": null,
   "metadata": {
    "id": "8sloJLXBDbRH"
   },
   "outputs": [],
   "source": [
    "# TODO: examine stability of attractors"
   ]
  },
  {
   "cell_type": "markdown",
   "metadata": {
    "id": "7YJd9l0PM1at"
   },
   "source": [
    "## Digit Reconstruction"
   ]
  },
  {
   "cell_type": "markdown",
   "metadata": {
    "id": "e2Q0lYTRgEVm"
   },
   "source": [
    "We will now train a higher dimensional Hopfield network which has as attractors the handwritten digits from 0 to 9, and test its ability to correctly reconstruct noisy variants of those digits.\n",
    "\n",
    "We start by loading and preprocessing the MNIST dataset of handwritten digits."
   ]
  },
  {
   "cell_type": "code",
   "execution_count": null,
   "metadata": {
    "colab": {
     "base_uri": "https://localhost:8080/"
    },
    "id": "b6NaD1BSk02e",
    "outputId": "a1bc9903-84dc-45d6-98c6-836651109fae"
   },
   "outputs": [],
   "source": [
    "(digits, labels), _ = mnist.load_data()               # Load MNIST digits dataset\n",
    "digits = {d: digits[labels == d] for d in range(10)}  # Store digits by class label\n",
    "targets = [digits[d][0] for d in range(10)]           # Select one digit of each class as a target pattern for the Hopfield network\n",
    "targets, params = HopfieldNetwork.normalize(targets)  # Normalize the targets (rescaling to the interval [-1, 1])"
   ]
  },
  {
   "cell_type": "markdown",
   "metadata": {
    "id": "ub-PmH9ihBhs"
   },
   "source": [
    "Create the Hopfield network and visualize its target attractors."
   ]
  },
  {
   "cell_type": "code",
   "execution_count": null,
   "metadata": {
    "colab": {
     "base_uri": "https://localhost:8080/",
     "height": 406
    },
    "id": "QXV7qx-nQgnH",
    "outputId": "88082b97-d079-4bab-b567-bec8f55190d1"
   },
   "outputs": [],
   "source": [
    "net = HopfieldNetwork(targets)\n",
    "plot_digits(targets)"
   ]
  },
  {
   "cell_type": "markdown",
   "metadata": {
    "id": "XsdfUoIPO6bm"
   },
   "source": [
    "### **Exercise 3**\n",
    "Add some random noise to the digits and check whether the network is able to recover the original digits. Is the Hopfield model always able to reconstruct the noisy digits? If not, why? What is the influence of the noise on the number of iterations?\n",
    "\n",
    "Try to answer the above questions by playing with these two parameters."
   ]
  },
  {
   "cell_type": "code",
   "execution_count": null,
   "metadata": {
    "id": "CbiBOAMiSiaQ"
   },
   "outputs": [],
   "source": [
    "# @title { run: \"auto\" }\n",
    "\n",
    "# Standard deviation of the added Gaussian noise\n",
    "noise_level = 1 # @param {type:\"slider\", min:0, max:10, step:0.1}\n",
    "# Number of iterations\n",
    "num_iter = 10 # @param {type:\"slider\", min:1, max:100, step:1}"
   ]
  },
  {
   "cell_type": "code",
   "execution_count": null,
   "metadata": {
    "id": "wnEmqXp8PgPo"
   },
   "outputs": [],
   "source": [
    "digits_noisy = np.clip(targets + rng.normal(scale=noise_level, size=targets.shape), -1, 1)\n",
    "states, energies = net.simulate(digits_noisy, num_iter)"
   ]
  },
  {
   "cell_type": "code",
   "execution_count": null,
   "metadata": {
    "colab": {
     "base_uri": "https://localhost:8080/",
     "height": 898
    },
    "id": "Yz941WM8Thry",
    "outputId": "c5a14949-f75f-44a2-b99a-5d4e7cf52a2a"
   },
   "outputs": [],
   "source": [
    "plot_digits([targets, digits_noisy, states[:,:,-1]], [\"Attractors\", \"Noisy Digits\", \"Reconstructed Digits\"], \"digits\")\n",
    "plot_energies(energies, \"digits_energy\")"
   ]
  },
  {
   "cell_type": "markdown",
   "metadata": {
    "id": "hQQl7QcnIy9T"
   },
   "source": [
    "## Extra\n",
    "Some additional things you can experiment with (not necessary for the report):\n",
    "\n",
    "\n",
    "*   The default learning algorithm to setup the Hopfield networks is more complex than the Hebbian rule from the lecture slides. By passing `\"Hebb\"` as the second parameter when creating the networks, you can see the difference between both learning algorithms.\n",
    "*   The default simulation algorithm used by the Hopfield networks updates the neurons in synchronous mode. By passing `sync=False` as the third parameter to the `simulate` method, you can experiment with asynchronous updates of the neurons.\n",
    "*   Instead of adding noise, you can try to pass some alternative digits (not used as training patterns) as initial states to the network; or try to occlude specific parts of the input images.\n",
    "*   You can experiment with other keras datasets, have a look at the different [available datasets](https://keras.io/api/datasets/).\n",
    "\n"
   ]
  }
 ],
 "metadata": {
  "colab": {
   "provenance": [],
   "toc_visible": true
  },
  "kernelspec": {
   "display_name": "Python 3",
   "name": "python3"
  },
  "language_info": {
   "name": "python"
  }
 },
 "nbformat": 4,
 "nbformat_minor": 0
}
