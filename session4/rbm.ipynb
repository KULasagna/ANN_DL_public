{
 "cells": [
  {
   "cell_type": "markdown",
   "metadata": {
    "id": "4mElVVTZQfav"
   },
   "source": [
    "Restricted Boltzmann Machines\n",
    "============================="
   ]
  },
  {
   "cell_type": "code",
   "execution_count": null,
   "metadata": {
    "id": "c2ut_4TUa9YI"
   },
   "outputs": [],
   "source": [
    "import numpy as np\n",
    "import matplotlib.pyplot as plt\n",
    "import sys\n",
    "import copy\n",
    "plt.rcParams['image.cmap'] = 'gray'\n",
    "plt.rcParams['axes.grid'] = False\n",
    "\n",
    "if 'google.colab' in sys.modules and 'sklearn' not in sys.modules:\n",
    "    !pip3 install scikit-learn\n",
    "\n",
    "from keras.datasets import mnist\n",
    "from sklearn.neural_network import BernoulliRBM"
   ]
  },
  {
   "cell_type": "markdown",
   "metadata": {
    "id": "PU0RRvez202r"
   },
   "source": [
    "We consider some utility functions to be used later."
   ]
  },
  {
   "cell_type": "code",
   "execution_count": null,
   "metadata": {
    "id": "PMe6XXoV3lpo"
   },
   "outputs": [],
   "source": [
    "def rbm_gibbs_sample_image(rbm, im, steps):\n",
    "  assert len(im.shape) < 3\n",
    "  if len(im.shape) == 2:\n",
    "    rows = im.shape[0]\n",
    "    cols = im.shape[1]\n",
    "    im = im.reshape((-1))\n",
    "  else:\n",
    "    im = im.copy()\n",
    "  for _ in range(steps):\n",
    "    im = rbm.gibbs(im)\n",
    "    if len(im.shape) == 2:\n",
    "      if rows is not None and cols is not None:\n",
    "        im = im.reshape((rows, cols))\n",
    "  return im.astype('float32')\n",
    "\n",
    "def image_palette(X, nr = None, m = 20):\n",
    "  if nr is None:\n",
    "    nr = X.shape[0]\n",
    "  return np.rollaxis(np.rollaxis(X[0:nr].reshape(m, -1, 28, 28), 0, 2), 1, 3).reshape(-1, m * 28)\n",
    "\n",
    "def remove_rows(X, start, end):\n",
    "  X = X.copy()\n",
    "  if len(X.shape) == 2:\n",
    "    X[start:end] = 0\n",
    "  elif len(X.shape) == 3:\n",
    "    X[:,start:end] = 0\n",
    "  return X"
   ]
  },
  {
   "cell_type": "markdown",
   "metadata": {
    "id": "zoHtUx1M3Dsu"
   },
   "source": [
    "Load the Dataset\n",
    "----------------\n",
    "Good ol' MNIST."
   ]
  },
  {
   "cell_type": "code",
   "execution_count": null,
   "metadata": {
    "colab": {
     "base_uri": "https://localhost:8080/"
    },
    "id": "R3zV5TgRbEPK",
    "outputId": "75c15a1b-c6df-4a1b-b1b7-211b90ae2a64"
   },
   "outputs": [],
   "source": [
    "(X_train, Y_train), (X_test, Y_test) = mnist.load_data()\n",
    "X_train = X_train.reshape((X_train.shape[0], -1))\n",
    "X_test = X_test.reshape((X_test.shape[0],-1))\n",
    "X_train = X_train.astype('float32') / 255\n",
    "X_test = X_test.astype('float32') / 255\n",
    "X_test = X_test[0:100]"
   ]
  },
  {
   "cell_type": "code",
   "execution_count": null,
   "metadata": {
    "colab": {
     "base_uri": "https://localhost:8080/",
     "height": 247
    },
    "id": "3v1EJlSVb6Sj",
    "outputId": "705c2294-022d-4294-a3b2-4b86ea712291"
   },
   "outputs": [],
   "source": [
    "flattened_images = image_palette(X_train, 100)\n",
    "plt.figure(figsize=(10,20))\n",
    "plt.imshow(flattened_images)\n",
    "plt.axis('off')"
   ]
  },
  {
   "cell_type": "markdown",
   "metadata": {
    "id": "Td8zbznQ3fcN"
   },
   "source": [
    "Train the RBM\n",
    "-------------\n",
    "**Exercise** What is the effect of the different parameters: **n_components**, **learning_rate**, **n_iter**. These parameters are, respectively, the number of components, the learning rate and the number of iterations. <br/>\n",
    "Evaluate the performance visually in the next code cell.\n"
   ]
  },
  {
   "cell_type": "code",
   "execution_count": null,
   "metadata": {
    "colab": {
     "base_uri": "https://localhost:8080/",
     "height": 960
    },
    "id": "0Z8v5HmXfxHe",
    "outputId": "4c304583-b92b-4d63-ca0f-7439b92dd736"
   },
   "outputs": [],
   "source": [
    "rbm = BernoulliRBM(n_components=10, learning_rate=0.01, random_state=0, n_iter=10, verbose=True)\n",
    "rbm.fit(X_train)"
   ]
  },
  {
   "cell_type": "markdown",
   "metadata": {
    "id": "6Z9ytHpM4quM"
   },
   "source": [
    "Sample the Trained RBM and Show the Results\n",
    "-------------------------------------------\n",
    "The gibbs_steps variable determines how many Gibbs sampling steps will be performed for each test image i.e. with the test images as initialization. <br/>\n",
    "**Exercise** Try different values and observe the result. Can you explain the result? <br/>\n",
    "Compare the result with the original test images, shown one cell lower.\n"
   ]
  },
  {
   "cell_type": "code",
   "execution_count": null,
   "metadata": {
    "colab": {
     "base_uri": "https://localhost:8080/",
     "height": 247
    },
    "id": "G7Vlqianf4jj",
    "outputId": "5050f385-457e-4368-b4a8-9357d5e62d5b"
   },
   "outputs": [],
   "source": [
    "rbm2 = copy.deepcopy(rbm)\n",
    "gibbs_steps = 50\n",
    "a = X_test.copy()\n",
    "for i in range(a.shape[0]):\n",
    "  for j in range(gibbs_steps):\n",
    "    a[i] = rbm2.gibbs(a[i])\n",
    "plt.figure(figsize=(10,20))\n",
    "plt.imshow(image_palette(a))\n",
    "plt.axis('off')"
   ]
  },
  {
   "cell_type": "code",
   "execution_count": null,
   "metadata": {
    "colab": {
     "base_uri": "https://localhost:8080/",
     "height": 247
    },
    "id": "wF2TdZRT1XTT",
    "outputId": "3e21599f-2ccd-4a34-c87e-73df0739dff3"
   },
   "outputs": [],
   "source": [
    "plt.figure(figsize=(10,20))\n",
    "plt.imshow(image_palette(X_test))\n",
    "plt.axis('off')"
   ]
  },
  {
   "cell_type": "markdown",
   "metadata": {
    "id": "kotpRZZS_D8j"
   },
   "source": [
    "## Reconstruction of Unseen Images\n",
    "In this cell, we will remove pixel rows from certain images. Using the recently trained RBM, we will then try to reconstruct the original images.  <br/>\n",
    "The following variables control this process: <br/>\n",
    "\n",
    "\n",
    "*   **reconstruction_gibbs_steps**: The number of gibbs steps used to reconstruct the image.\n",
    "*   **start_test_index**: The first index of the test set to use.\n",
    "*   **nr**: the number of images starting from **start_test_index** to reconstruct.\n",
    "*   **start_row_to_remove**:  The index of the first row that should be removed.\n",
    "*   **end_row_to_remove**: The index up to which the rows should be removed.\n",
    "\n",
    "**Exercise** Adjust these variables and observe the result of the reconstruction in the shown image.\n",
    "What is the role of the previously seen RBM hyperparameters on the reconstruction? <br/>\n",
    "How many rows can you remove such that reconstruction is still possible? <br/>\n",
    "In the next code cell, the removed rows will be replaced by the reconstructed rows.\n",
    "\n",
    "\n"
   ]
  },
  {
   "cell_type": "code",
   "execution_count": null,
   "metadata": {
    "colab": {
     "base_uri": "https://localhost:8080/",
     "height": 279
    },
    "id": "ZJSV4ixQAHeh",
    "outputId": "78eae4a7-7722-4a35-b9c5-149da12b4331"
   },
   "outputs": [],
   "source": [
    "rbm3 = copy.deepcopy(rbm)\n",
    "reconstruction_gibbs_steps = 10\n",
    "start_test_index = 0\n",
    "nr = 4\n",
    "start_row_to_remove = 0\n",
    "end_row_to_remove = 12\n",
    "to_reconstruct = X_test[start_test_index:start_test_index + nr].reshape((-1,28,28))\n",
    "to_reconstruct = remove_rows(to_reconstruct, start_row_to_remove, end_row_to_remove)\n",
    "reconstructed = np.zeros(to_reconstruct.shape)\n",
    "for i in range(nr):\n",
    "  reconstructed[i] = rbm_gibbs_sample_image(rbm3, to_reconstruct[i], reconstruction_gibbs_steps).reshape((28,28))\n",
    "combined_images = np.concatenate((to_reconstruct,reconstructed), axis=1)\n",
    "fig = plt.figure()\n",
    "for i in range(nr):\n",
    "  ax1 = fig.add_subplot(1,nr,i+1)\n",
    "  ax1.imshow(combined_images[i])\n",
    "\n",
    "plt.show()"
   ]
  },
  {
   "cell_type": "code",
   "execution_count": null,
   "metadata": {
    "colab": {
     "base_uri": "https://localhost:8080/",
     "height": 172
    },
    "id": "GK_KYcn2GTIG",
    "outputId": "25997fb9-18eb-4ac0-8168-e8ca789e969a"
   },
   "outputs": [],
   "source": [
    "start_row_to_remove\n",
    "end_row_to_remove\n",
    "to_reconstruct[:,start_row_to_remove:end_row_to_remove] = reconstructed[:,start_row_to_remove:end_row_to_remove]\n",
    "fig = plt.figure()\n",
    "for i in range(nr):\n",
    "  ax1 = fig.add_subplot(1,nr,i+1)\n",
    "  ax1.imshow(to_reconstruct[i])\n",
    "\n",
    "plt.show()"
   ]
  },
  {
   "cell_type": "markdown",
   "metadata": {
    "id": "1f6SfStuMDpp"
   },
   "source": [
    "## Component Visualization\n",
    "In the final cell, the components (weights of each neuron) of the RBM are shown.<br/>\n",
    "Observing these components (think back to CNNs) may offer insights into the trained model."
   ]
  },
  {
   "cell_type": "code",
   "execution_count": null,
   "metadata": {
    "colab": {
     "base_uri": "https://localhost:8080/",
     "height": 1000
    },
    "id": "B2aValmU6nYG",
    "outputId": "31d28985-b643-4fab-8c35-b00653ac7684"
   },
   "outputs": [],
   "source": [
    "plt.figure(figsize=(18, 18))\n",
    "nr_components = rbm.components_.shape[0]\n",
    "for i in range(nr_components):\n",
    "    c = rbm.components_[i]\n",
    "    plt.subplot(10, int(np.ceil(nr_components/10)), i + 1)\n",
    "    plt.imshow(c.reshape((28, 28)), cmap = \"gray\", interpolation='nearest')\n",
    "    plt.axis('off')\n",
    "\n",
    "plt.suptitle('Components extracted by the RBM', fontsize=16);"
   ]
  }
 ],
 "metadata": {
  "accelerator": "GPU",
  "colab": {
   "provenance": [],
   "toc_visible": true
  },
  "kernelspec": {
   "display_name": "Python 3",
   "name": "python3"
  }
 },
 "nbformat": 4,
 "nbformat_minor": 0
}
