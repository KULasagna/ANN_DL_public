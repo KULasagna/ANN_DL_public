{
 "cells": [
  {
   "cell_type": "markdown",
   "metadata": {
    "id": "8HpLN9gSW5-b"
   },
   "source": [
    "Deep Boltzmann Machines\n",
    "======================="
   ]
  },
  {
   "cell_type": "code",
   "execution_count": null,
   "metadata": {
    "colab": {
     "base_uri": "https://localhost:8080/"
    },
    "id": "c2ut_4TUa9YI",
    "outputId": "cc0f4727-03b3-4625-8971-9e9592b1090d",
    "pycharm": {
     "name": "#%%\n"
    }
   },
   "outputs": [],
   "source": [
    "!pip install tensorflow==2.15.0 keras==2.15.0 ml-dtypes==0.2.0 jax==0.4.9 jaxlib==0.4.9 numpy==1.26.4 chex==0.1.81 optax==0.1.7 flax==0.6.8 orbax-checkpoint==0.2.0 tensorflow-text==2.15.0 tf-keras==2.15.0 dopamine-rl==4.0.0 tensorflow_probability==0.23.0 inflect==6.0.2\n",
    "!pip install nose\n",
    "!pip install tensorflow-addons\n",
    "!rm -rf boltzmann-machines\n",
    "!git clone --single-branch --depth=1 --branch experimental-tf2 https://github.com/hannesdm/boltzmann-machines.git\n",
    "%cd ./boltzmann-machines\n",
    "import numpy as np\n",
    "import copy\n",
    "import matplotlib.pyplot as plt\n",
    "plt.rcParams['image.cmap'] = 'gray'\n",
    "plt.rcParams['axes.grid'] = False\n",
    "import logging, os\n",
    "logging.disable(logging.WARNING)\n",
    "os.environ[\"TF_CPP_MIN_LOG_LEVEL\"] = \"3\"\n",
    "\n",
    "#from examples import callable_dbm_mnist\n",
    "from keras.datasets import mnist\n",
    "from sklearn.neural_network import BernoulliRBM\n",
    "from sklearn import preprocessing\n",
    "from sklearn.metrics import accuracy_score\n",
    "from boltzmann_machines import DBM\n",
    "from boltzmann_machines.rbm import BernoulliRBM\n",
    "from boltzmann_machines.utils import im_plot"
   ]
  },
  {
   "cell_type": "markdown",
   "metadata": {
    "id": "h76_RkCZbw1g",
    "pycharm": {
     "name": "#%% md\n"
    }
   },
   "source": [
    "Load the MNIST Dataset\n",
    "----------------------"
   ]
  },
  {
   "cell_type": "code",
   "execution_count": null,
   "metadata": {
    "colab": {
     "base_uri": "https://localhost:8080/"
    },
    "id": "umyVA70DYEmM",
    "outputId": "4375fcc0-b217-486c-ba47-f4b902981d9f",
    "pycharm": {
     "name": "#%%\n"
    }
   },
   "outputs": [],
   "source": [
    "(X_train, Y_train), (X_test, Y_test) = mnist.load_data()\n",
    "X_train = X_train.reshape((X_train.shape[0], -1))\n",
    "X_test = X_test.reshape((X_test.shape[0],-1))\n",
    "X_train = X_train.astype('float32') / 255\n",
    "X_test = X_test.astype('float32') / 255"
   ]
  },
  {
   "cell_type": "markdown",
   "metadata": {
    "id": "HegMeKq0b8s0",
    "pycharm": {
     "name": "#%% md\n"
    }
   },
   "source": [
    "Load a Pretrained Model and Visualize the Components\n",
    "----------------------------------------------------\n",
    "To prevent losing too much time on training a deep model, a working pretrained RBM will be used.\n",
    "Can you explain the difference between the components of the first and second layer of the DBM?\n"
   ]
  },
  {
   "cell_type": "code",
   "execution_count": null,
   "metadata": {
    "colab": {
     "base_uri": "https://localhost:8080/"
    },
    "id": "s0X2KqR_fUU5",
    "outputId": "6b34a3fd-c532-4d60-a54a-2bcc6b955cbb",
    "pycharm": {
     "name": "#%%\n"
    }
   },
   "outputs": [],
   "source": [
    "rbm1 = BernoulliRBM.load_model('./models/dbm_mnist_rbm1/')\n",
    "rbm2 = BernoulliRBM.load_model('./models/dbm_mnist_rbm2/')\n",
    "dbm = DBM.load_model('./models/dbm_mnist/')\n",
    "dbm.load_rbms([rbm1, rbm2])"
   ]
  },
  {
   "cell_type": "code",
   "execution_count": null,
   "metadata": {
    "colab": {
     "base_uri": "https://localhost:8080/",
     "height": 876
    },
    "id": "6VM7wmSKfxHl",
    "outputId": "7ef06c66-859e-4114-ca2d-72c998e5693e",
    "pycharm": {
     "name": "#%%\n"
    }
   },
   "outputs": [],
   "source": [
    "import tensorflow as tf\n",
    "W1_joint = dbm._W[0].value().numpy()\n",
    "\n",
    "fig = plt.figure(figsize=(10, 10))\n",
    "im_plot(W1_joint.T, shape=(28, 28), title='First 100 filters of the first layer of the DBM',\n",
    "        title_params={'fontsize': 20}, imshow_params={'cmap': plt.cm.gray})"
   ]
  },
  {
   "cell_type": "code",
   "execution_count": null,
   "metadata": {
    "colab": {
     "base_uri": "https://localhost:8080/",
     "height": 876
    },
    "id": "7EXVU-3_f4dA",
    "outputId": "e6679d62-6443-456d-e2d3-16739906c641",
    "pycharm": {
     "name": "#%%\n"
    }
   },
   "outputs": [],
   "source": [
    "W2_joint = dbm._W[1].value().numpy()\n",
    "U_joint = W1_joint.dot(W2_joint)\n",
    "\n",
    "fig = plt.figure(figsize=(10, 10))\n",
    "im_plot(U_joint.T, shape=(28, 28), title='First 100 filters of the 2nd layer of the DBM',\n",
    "        title_params={'fontsize': 20})"
   ]
  },
  {
   "cell_type": "markdown",
   "metadata": {
    "id": "HYaG0cv2gtfG",
    "pycharm": {
     "name": "#%% md\n"
    }
   },
   "source": [
    "Sample the DBM\n",
    "--------------\n",
    "**Exercise** Comment on the quality of the samples and compare them with the samples from the RBM.<br/>\n",
    "Do you see a difference in quality? Explain why."
   ]
  },
  {
   "cell_type": "code",
   "execution_count": null,
   "metadata": {
    "colab": {
     "base_uri": "https://localhost:8080/",
     "height": 876
    },
    "id": "pqILfLzKgAv-",
    "outputId": "badbb41d-fcf4-457e-d45d-1a22507ee802",
    "pycharm": {
     "name": "#%%\n"
    }
   },
   "outputs": [],
   "source": [
    "dbm2 = copy.deepcopy(dbm)\n",
    "\n",
    "gibbs_steps = 1\n",
    "\n",
    "V = dbm2.sample_v(n_gibbs_steps=gibbs_steps)\n",
    "\n",
    "fig = plt.figure(figsize=(10, 10))\n",
    "im_plot(V, shape=(28, 28), title='Samples generated by DBM after '+str(gibbs_steps) + ' Gibbs steps',\n",
    "        imshow_params={'cmap': plt.cm.gray})"
   ]
  },
  {
   "cell_type": "code",
   "execution_count": null,
   "metadata": {
    "id": "ybDOQWVDsAJx"
   },
   "outputs": [],
   "source": []
  }
 ],
 "metadata": {
  "accelerator": "GPU",
  "colab": {
   "provenance": [],
   "toc_visible": true
  },
  "kernelspec": {
   "display_name": "Python 3 (ipykernel)",
   "language": "python",
   "name": "python3"
  }
 },
 "nbformat": 4,
 "nbformat_minor": 0
}
